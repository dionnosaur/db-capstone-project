{
 "cells": [
  {
   "cell_type": "markdown",
   "id": "29acd70d",
   "metadata": {},
   "source": [
    "Importing MySQL Connector and connecting to LittleLemonDB database"
   ]
  },
  {
   "cell_type": "code",
   "execution_count": 1,
   "id": "4d83fc18",
   "metadata": {},
   "outputs": [],
   "source": [
    "import mysql.connector as connector"
   ]
  },
  {
   "cell_type": "code",
   "execution_count": 10,
   "id": "27febd64",
   "metadata": {},
   "outputs": [],
   "source": [
    "connection = connector.connect(user = \"admin1\", password = \"password\", db =\"LittleLemonDB\")"
   ]
  },
  {
   "cell_type": "markdown",
   "id": "09c051bb",
   "metadata": {},
   "source": [
    "Creating a cursor object"
   ]
  },
  {
   "cell_type": "code",
   "execution_count": 11,
   "id": "6672cee7",
   "metadata": {},
   "outputs": [],
   "source": [
    "cursor = connection.cursor()"
   ]
  },
  {
   "cell_type": "markdown",
   "id": "1df70280",
   "metadata": {},
   "source": [
    "Creating a query to test connection that shows all tables in database and fetching results"
   ]
  },
  {
   "cell_type": "code",
   "execution_count": 5,
   "id": "67b66aac",
   "metadata": {},
   "outputs": [],
   "source": [
    "show_tables_query = \"SHOW tables\"\n",
    "cursor.execute(show_tables_query)"
   ]
  },
  {
   "cell_type": "code",
   "execution_count": 6,
   "id": "e7ff93cd",
   "metadata": {},
   "outputs": [
    {
     "name": "stdout",
     "output_type": "stream",
     "text": [
      "[('Bookings',), ('Customers',), ('Employees',), ('Menu',), ('Orders',), ('ordersview',)]\n"
     ]
    }
   ],
   "source": [
    "results = cursor.fetchall()\n",
    "print(results)"
   ]
  },
  {
   "cell_type": "markdown",
   "id": "6b1d4b2b",
   "metadata": {},
   "source": [
    "Query that retrieves the names, phone numbers, and emails of customers who spent at least 60.00 on their orders "
   ]
  },
  {
   "cell_type": "code",
   "execution_count": 27,
   "id": "af969a7d",
   "metadata": {},
   "outputs": [],
   "source": [
    "customer_promotion_query = \"\"\"\n",
    "SELECT CONCAT(FirstName, \" \", LastName) AS \"Customer Name\", PhoneNumber AS \"Phone Number\", Email\n",
    "FROM Customers\n",
    "INNER JOIN Bookings ON Bookings.CustomerID = Customers.CustomerID\n",
    "INNER JOIN Orders ON Bookings.BookingID = Orders.BookingID\n",
    "WHERE Orders.BillAmount > 60;\n",
    "\"\"\""
   ]
  },
  {
   "cell_type": "markdown",
   "id": "34768ad8",
   "metadata": {},
   "source": [
    "Executing query and fetching results and column names"
   ]
  },
  {
   "cell_type": "code",
   "execution_count": null,
   "id": "89644b8d",
   "metadata": {},
   "outputs": [],
   "source": [
    "cursor.execute(customer_promotion_query)\n",
    "\n",
    "results = cursor.fetchall()\n",
    "\n",
    "cols = cursor.column_names"
   ]
  },
  {
   "cell_type": "markdown",
   "id": "b686918d",
   "metadata": {},
   "source": [
    "Printing results in an easy to read format"
   ]
  },
  {
   "cell_type": "code",
   "execution_count": 32,
   "id": "980d6519",
   "metadata": {
    "scrolled": true
   },
   "outputs": [
    {
     "name": "stdout",
     "output_type": "stream",
     "text": [
      "Customers whose spent 60.00 or more \n",
      "\n",
      "Customer Name : Joakim Adams\n",
      "Phone Number : 6264872343\n",
      "Email : jadams@email.net\n",
      "\n",
      "\n",
      "Customer Name : Anna Iversen\n",
      "Phone Number : 9092345432\n",
      "Email : aiversen@email.com\n",
      "\n",
      "\n",
      "Customer Name : Marcos Romero\n",
      "Phone Number : 8487834050\n",
      "Email : None\n",
      "\n",
      "\n"
     ]
    }
   ],
   "source": [
    "print(\"Customers whose spent 60.00 or more \\n\")\n",
    "\n",
    "for i in range(3):\n",
    "    print(cols[0], \":\", results[i][0])\n",
    "    print(cols[1], \":\", results[i][1])\n",
    "    print(cols[2], \":\", results[i][2])\n",
    "    print(\"\\n\")"
   ]
  },
  {
   "cell_type": "code",
   "execution_count": null,
   "id": "bda83a04",
   "metadata": {},
   "outputs": [],
   "source": []
  }
 ],
 "metadata": {
  "kernelspec": {
   "display_name": "Python 3 (ipykernel)",
   "language": "python",
   "name": "python3"
  },
  "language_info": {
   "codemirror_mode": {
    "name": "ipython",
    "version": 3
   },
   "file_extension": ".py",
   "mimetype": "text/x-python",
   "name": "python",
   "nbconvert_exporter": "python",
   "pygments_lexer": "ipython3",
   "version": "3.9.12"
  }
 },
 "nbformat": 4,
 "nbformat_minor": 5
}
